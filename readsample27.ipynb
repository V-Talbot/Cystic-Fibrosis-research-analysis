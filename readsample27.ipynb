{
 "cells": [
  {
   "cell_type": "markdown",
   "metadata": {},
   "source": [
    "This file, intended for Python 2.7, reads in raw output from GP Microbiome and processes it, saving the data to csv files for use in other programs in this repository with up-to-date versions of Python. It is written for Python 2.7 because it processes output from a Python 2.7 program. \n",
    "\n",
    "<br>\n",
    "Although technically it is possible to load a file pickled in Python 2 with Python 3, compatibility issues between the two versions of pickle make this far from straightforward. Furthermore, since the program processes output from a Python 2.7 program, Python 2.7 will already be installed on your computer if you are running this on your own data."
   ]
  },
  {
   "cell_type": "code",
   "execution_count": 1,
   "metadata": {},
   "outputs": [],
   "source": [
    "#import libraries\n",
    "import pickle\n",
    "import pandas as pd\n",
    "import numpy as np"
   ]
  },
  {
   "cell_type": "markdown",
   "metadata": {},
   "source": [
    "This code uses the output file 'example_output.p', created from running GP Microbiome on the example_data input files. The example GP Microbiome input files (in the Data folder under 'Extras') include absolute abundances of 6 OTU's (operational taxonomic units) of bacteria at 10 time points, and a set of 13 predicted time points: 10 of these are between sample time points and 3 are in the future. Although the code is written to save the output to csv files after procesing, if you are only running it on this example data, you don't need to save. My other programs use example data that looks very similar to the output of this program when it was run on our CF data, with 245 OTU's. \n",
    "\n",
    "The code is written to allow the user to do some initial exploration of this raw output, as I did the first time I processed output from GP Microbiome. Don't feel like exploring the data? At the end of the program is a function that performs all the necessary processing at once, and it can be used in a loop to process multiple raw output files, creating and saving their csv counterparts with one run. "
   ]
  },
  {
   "cell_type": "markdown",
   "metadata": {},
   "source": [
    "When I created my GP Microbiome input files for the time points and prediction time points, I formatted them as time deltas, with units of days, for all but the first participant I ran the program on. For that participant (ID number 151), I used their age in days at the time points and predicted time points. After viewing the output from that first run of GP Microbiome, I decided that I preferred using time deltas because it facilitates side-by-side comparison of different participant's output tables. \n",
    "\n",
    "<br>\n",
    "\n",
    "When running the same program on multiple participants, as I did with GP Microbiome, I believe it is best practice to make the same formatting choices for each participant whenever possible. This facilitates comparison, prevents errors, and allows for simpler code. With this in mind, and because the output of this program becomes input for my plotting programs, I include in this repository a version of this program called readsample27_with_151_edit to show how I created all the files at once while correcting the discrepancy in the output file samples_151.p (from participant 151), and could have corrected for any other file which did not use time deltas. It transforms 151's time points into time deltas before creating the csv versions of the output files so that they match the others' formatting from this point on. At the end of that program, I include a comment with an 'if' statement which could have been inserted into my plotting functions, to illustrate how I could have handled this discrepancy another way. However, I prefer to make my formatting consistent in the files themselves rather than insert such a statement every time I run a program that uses the files as input.  \n",
    "\n",
    "<br>\n",
    "\n",
    "All of my code is written to be adaptable yet highly resistant to errors. However you choose to define your time points, take similar steps to ensure that, when you run functions like the ones in my plotting programs which generate 20 plots per participant simultaneously for multiple participants, those plots show exactly what they are intended to show. "
   ]
  },
  {
   "cell_type": "code",
   "execution_count": 20,
   "metadata": {},
   "outputs": [],
   "source": [
    "T,T_p,samples = pickle.load(open('Data/example_output.p','r'))"
   ]
  },
  {
   "cell_type": "markdown",
   "metadata": {},
   "source": [
    "The keys for the information in the output dictionary file are:    \n",
    "    <br>\n",
    "        'G_d', 'G_i', 'F', 'Beta', 'eta_sq', 'inv_rho_sq', 'sigma_sq', 'rho_sq', 'Theta_G', 'Theta_G_i', and 'lp__',\n",
    "    <br>\n",
    "    \n",
    "with 'Theta_G_i' only appearing if predictions are made."
   ]
  },
  {
   "cell_type": "code",
   "execution_count": null,
   "metadata": {},
   "outputs": [],
   "source": [
    "#view the list of the variables in the output file for yourself, if desired\n",
    "print samples.keys()"
   ]
  },
  {
   "cell_type": "code",
   "execution_count": null,
   "metadata": {},
   "outputs": [],
   "source": [
    "#print the means of the Theta_G variable, and the Theta_G_i variable if predictions have been made\n",
    "print samples['Theta_G'].mean(0).T\n",
    "if samples.has_key('Theta_G_i'):\n",
    "  print samples['Theta_G_i'].mean(0).T"
   ]
  },
  {
   "cell_type": "markdown",
   "metadata": {},
   "source": [
    "Example Output, using the sample data with 10 time points and 13 prediction time points for 6 OTU's. \n",
    "<br>\n",
    "Blue arrows indicate where the arrays for Theta_G and Theta_G_i begin.\n",
    "<img src='https://i.imgur.com/IETB4LK.png' style='height:400px'>"
   ]
  },
  {
   "cell_type": "code",
   "execution_count": 6,
   "metadata": {},
   "outputs": [
    {
     "data": {
      "text/plain": [
       "array([   0.,  442.,  620.,  879.,  991., 1087., 1255., 1379., 1492.,\n",
       "       1617.])"
      ]
     },
     "execution_count": 6,
     "metadata": {},
     "output_type": "execute_result"
    }
   ],
   "source": [
    "#Examine the time points array to make sure it was saved correctly. \n",
    "#Our project used timepoints based on the number of days since the first sample, so I did the same for the example file. \n",
    "T"
   ]
  },
  {
   "cell_type": "code",
   "execution_count": 7,
   "metadata": {},
   "outputs": [],
   "source": [
    "#Convert the array to a list\n",
    "T=T.tolist()"
   ]
  },
  {
   "cell_type": "code",
   "execution_count": 8,
   "metadata": {},
   "outputs": [
    {
     "data": {
      "text/plain": [
       "array([ 147.,  294.,  531.,  749.,  935., 1039., 1171., 1317., 1435.,\n",
       "       1554., 1797., 1977., 2157.])"
      ]
     },
     "execution_count": 8,
     "metadata": {},
     "output_type": "execute_result"
    }
   ],
   "source": [
    "#Examine the prediction time points array to make sure it was saved correctly\n",
    "T_p"
   ]
  },
  {
   "cell_type": "code",
   "execution_count": 9,
   "metadata": {},
   "outputs": [],
   "source": [
    "#Convert the array to a list\n",
    "T_p=T_p.tolist()"
   ]
  },
  {
   "cell_type": "code",
   "execution_count": 10,
   "metadata": {},
   "outputs": [
    {
     "name": "stdout",
     "output_type": "stream",
     "text": [
      "[0.0, 442.0, 620.0, 879.0, 991.0, 1087.0, 1255.0, 1379.0, 1492.0, 1617.0, 147.0, 294.0, 531.0, 749.0, 935.0, 1039.0, 1171.0, 1317.0, 1435.0, 1554.0, 1797.0, 1977.0, 2157.0]\n"
     ]
    }
   ],
   "source": [
    "#Make a single list for both sets of time points, for reference \n",
    "T_both = T+T_p\n",
    "#view list\n",
    "print T_both"
   ]
  },
  {
   "cell_type": "code",
   "execution_count": 11,
   "metadata": {},
   "outputs": [],
   "source": [
    "import matplotlib.pyplot as plt\n",
    "%matplotlib inline"
   ]
  },
  {
   "cell_type": "code",
   "execution_count": 12,
   "metadata": {
    "scrolled": true
   },
   "outputs": [
    {
     "data": {
      "image/png": "[encoded data removed]",
      "text/plain": [
       "<Figure size 432x288 with 1 Axes>"
      ]
     },
     "metadata": {
      "needs_background": "light"
     },
     "output_type": "display_data"
    }
   ],
   "source": [
    "#Do a quick exploratory plot of one of the OTU's, specifying y-axis limits if desired\n",
    "plt.plot(T,samples['Theta_G'].mean(0).T[1])\n",
    "plt.title('OTU 2 noise-free counts')\n",
    "plt.xlabel('Time delta in days')\n",
    "#plt.ylim(0.025,.425)\n",
    "plt.show()"
   ]
  },
  {
   "cell_type": "code",
   "execution_count": 13,
   "metadata": {},
   "outputs": [
    {
     "data": {
      "image/png": "[encoded data removed]",
      "text/plain": [
       "<Figure size 432x288 with 1 Axes>"
      ]
     },
     "metadata": {
      "needs_background": "light"
     },
     "output_type": "display_data"
    }
   ],
   "source": [
    "#Do a second quick plot, of the predicted values for the same OTU, in the same fashion\n",
    "plt.plot(T_p,samples['Theta_G_i'].mean(0).T[1])\n",
    "plt.title('OTU 2 predicted counts')\n",
    "plt.xlabel('Time delta in days')\n",
    "#plt.ylim(0.025,.425)\n",
    "plt.show()"
   ]
  },
  {
   "cell_type": "code",
   "execution_count": 14,
   "metadata": {},
   "outputs": [],
   "source": [
    "#Assign to the variable 'rows' the number of rows in the output array, which is the number of OTU's of bacteria\n",
    "rows=len(samples['Theta_G'].mean(0).T)\n"
   ]
  },
  {
   "cell_type": "code",
   "execution_count": null,
   "metadata": {},
   "outputs": [],
   "source": [
    "#Create a data frame with the timepoints in the first row and the OTU's in the following rows\n",
    "df=pd.DataFrame(samples['Theta_G'].mean(0).T, columns=[i for i in range(len(T))], index=[i+1 for i in range(rows)])\n",
    "df.loc[0] = T\n",
    "df=df.sort_index()\n",
    "df.head()"
   ]
  },
  {
   "cell_type": "markdown",
   "metadata": {},
   "source": [
    "Example data frame using the sample data\n",
    "<img src='https://i.imgur.com/6U9XUzO.png' style='height:160px'>"
   ]
  },
  {
   "cell_type": "code",
   "execution_count": 14,
   "metadata": {},
   "outputs": [],
   "source": [
    "#Save to csv for re-importing into code using an up-to-date version of Python. \n",
    "#As I mentioned earlier, there's no need to save the example data. \n",
    "#You will want to save the files if you run the program on your own output data. \n",
    "#Remember to specify a file path if you want it in a particular folder on your computer.\n",
    "df.to_csv('Data/example.csv', index=False)"
   ]
  },
  {
   "cell_type": "code",
   "execution_count": null,
   "metadata": {},
   "outputs": [],
   "source": [
    "#Create a second data frame for just the prediction time points and values, with the same format as before but column values starting \n",
    "#after the last value of the other data frame's columns\n",
    "df2=pd.DataFrame(samples['Theta_G_i'].mean(0).T, columns=[i for i in range(len(T),len(T)+len(T_p))], index=[i+1 for i in range(rows)])\n",
    "df2.loc[0] = T_p\n",
    "df2 = df2.sort_index()\n",
    "df2.head()"
   ]
  },
  {
   "cell_type": "markdown",
   "metadata": {},
   "source": [
    "Optional: save to csv as before. \n",
    "You might want to do this for a few reasons - for instance, to analyse or plot between-time-points predictions on their own or because you don't have time to run this entire program in one go, and don't want to start again from scratch. Usually, just saving the file created below, which contains both the predicted noise-free compositions and the noise-free compositions, will suffice."
   ]
  },
  {
   "cell_type": "code",
   "execution_count": 16,
   "metadata": {},
   "outputs": [],
   "source": [
    "#df2.to_csv('Data/example_pred.csv',index=False)"
   ]
  },
  {
   "cell_type": "code",
   "execution_count": null,
   "metadata": {},
   "outputs": [],
   "source": [
    "#Combine the two data frames. Check columns against the T_both list. \n",
    "dfboth = pd.concat([df, df2], axis=1, sort=False)\n",
    "dfboth.head()"
   ]
  },
  {
   "cell_type": "code",
   "execution_count": 115,
   "metadata": {},
   "outputs": [],
   "source": [
    "#Save to csv for use later with an up-to-date version of Python\n",
    "#Again, there's no need to save the example data. \n",
    "#You will want to save the files if you run the program on your own output data. \n",
    "#Remember to specify a file path if you want it in a particular folder on your computer.\n",
    "dfboth.to_csv('Data/example_both.csv', index=False)"
   ]
  },
  {
   "cell_type": "markdown",
   "metadata": {},
   "source": [
    "## Quick function to generate files in a loop\n",
    "Ideally, one would name or rename the files used in this program so that they differ only by the participant's ID or some other identifying string. Then one can use a list of these strings and run a function that loops through the list. Of course, for this example, we only have one file, so it will be a trivial list of one item. "
   ]
  },
  {
   "cell_type": "code",
   "execution_count": 2,
   "metadata": {},
   "outputs": [],
   "source": [
    "IDs=['example']"
   ]
  },
  {
   "cell_type": "code",
   "execution_count": 3,
   "metadata": {},
   "outputs": [],
   "source": [
    "#Here is a function that will create the files quickly. \n",
    "#It can process several output files at once using a loop. \n",
    "#File paths will need adjustment if you plan to save this to your computer in a specific folder\n",
    "def file_create(name):\n",
    "    T,T_p,samples = pickle.load(open('Data/{}_output.p'.format(name),'r'))\n",
    "    rows=len(samples['Theta_G'].mean(0).T)\n",
    "    T=T.tolist()\n",
    "    T_p=T_p.tolist()\n",
    "    df=pd.DataFrame(samples['Theta_G'].mean(0).T, columns=[i for i in range(len(T))], index=[i+1 for i in range(rows)])\n",
    "    df.loc[0] = T\n",
    "    df=df.sort_index()\n",
    "    df.to_csv('Data/{}.csv'.format(name), index=False)\n",
    "    df2=pd.DataFrame(samples['Theta_G_i'].mean(0).T, columns=[i for i in range(len(T),len(T)+len(T_p))], index=[i+1 for i in range(rows)])\n",
    "    df2.loc[0] = T_p\n",
    "    df2 = df2.sort_index()\n",
    "    #save predictions alone only if desired - this is optional\n",
    "    #df2.to_csv('Data/{}_pred.csv'.format(name), index=False)\n",
    "    dfboth = pd.concat([df, df2], axis=1, sort=False)\n",
    "    dfboth.to_csv('Data/{}_both.csv'.format(name), index=False)"
   ]
  },
  {
   "cell_type": "code",
   "execution_count": 4,
   "metadata": {},
   "outputs": [],
   "source": [
    "#Example of running the function\n",
    "for i in IDs:\n",
    "    file_create(i)\n",
    "    "
   ]
  }
 ],
 "metadata": {
  "kernelspec": {
   "display_name": "Python 2",
   "language": "python",
   "name": "python2"
  },
  "language_info": {
   "codemirror_mode": {
    "name": "ipython",
    "version": 2
   },
   "file_extension": ".py",
   "mimetype": "text/x-python",
   "name": "python",
   "nbconvert_exporter": "python",
   "pygments_lexer": "ipython2",
   "version": "2.7.16"
  }
 },
 "nbformat": 4,
 "nbformat_minor": 2
}
