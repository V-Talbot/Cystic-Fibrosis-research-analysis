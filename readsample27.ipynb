{
 "cells": [
  {
   "cell_type": "markdown",
   "metadata": {},
   "source": [
    "This file, intended for Python 2.7, reads in raw output from GP Microbiome and processes it, saving the data to csv files for use with up-to-date versions of Python. "
   ]
  },
  {
   "cell_type": "code",
   "execution_count": 1,
   "metadata": {},
   "outputs": [],
   "source": [
    "import pickle\n",
    "from numpy import *\n"
   ]
  },
  {
   "cell_type": "markdown",
   "metadata": {},
   "source": [
    "This code uses the output file 'example_output.p', created from running GP Microbiome on the example_data input files, so adjust your file names (or file paths, if the file is not in the same folder as this program) accordingly. The example data contains 10 time points for samples and 6 OTU's of bacteria, and predicted 13 time points: 10 of these are between sample time points and 3 are in the future. \n",
    "<br>\n",
    "\n",
    "At the end of the program is a function that can be used to read in multiple output files at once. "
   ]
  },
  {
   "cell_type": "code",
   "execution_count": 34,
   "metadata": {},
   "outputs": [],
   "source": [
    "T,T_p,samples = pickle.load(open(r'C:\\Users\\Virginia\\GPMicrobiome-master\\example_output.p','r'))"
   ]
  },
  {
   "cell_type": "code",
   "execution_count": 3,
   "metadata": {},
   "outputs": [
    {
     "name": "stdout",
     "output_type": "stream",
     "text": [
      "[u'G_d', u'G_i', u'F', u'Beta', u'eta_sq', u'inv_rho_sq', u'sigma_sq', u'rho_sq', u'Theta_G', u'Theta_G_i', u'lp__']\n"
     ]
    }
   ],
   "source": [
    "#view a list of the variables in the output file\n",
    "print samples.keys()"
   ]
  },
  {
   "cell_type": "markdown",
   "metadata": {},
   "source": [
    "Below is an image of the output from the previous cell if predictions are made. These are explained in the research paper accompanying GPMicrobiome. Of primary interest are Theta_G, the noise-free compositions, and Theta_G_i, the noise-free compositions with predictions.\n",
    "<br>\n",
    "<img src= 'https://i.imgur.com/AbgLDRO.png' style='height:75px'>"
   ]
  },
  {
   "cell_type": "code",
   "execution_count": 4,
   "metadata": {
    "scrolled": true
   },
   "outputs": [
    {
     "name": "stdout",
     "output_type": "stream",
     "text": [
      "[[0.04751675 0.07448655 0.01768101 0.09238814 0.18861926 0.07594025\n",
      "  0.08391053 0.0697398  0.14064573 0.12945568]\n",
      " [0.13537543 0.13415304 0.0466478  0.1209646  0.14734226 0.10639203\n",
      "  0.06938994 0.06628514 0.41193359 0.37277919]\n",
      " [0.04636825 0.12751477 0.02757002 0.10066794 0.19940899 0.15065145\n",
      "  0.07755445 0.09546483 0.22477912 0.21227954]\n",
      " [0.20414512 0.13833795 0.03047529 0.05806151 0.13599022 0.06489398\n",
      "  0.09623149 0.07818775 0.06389998 0.09880795]\n",
      " [0.50326826 0.43827061 0.85460989 0.52906836 0.02914884 0.49891596\n",
      "  0.59905341 0.59103591 0.02373298 0.0496719 ]\n",
      " [0.06332619 0.08723709 0.02301599 0.09884944 0.29949043 0.10320632\n",
      "  0.07386019 0.09928658 0.1350086  0.13700575]]\n",
      "[[0.14102695 0.16250735 0.14426483 0.14909085 0.15505101 0.15224183\n",
      "  0.1411767  0.13249091 0.14080339 0.14822108 0.14286403 0.15830326\n",
      "  0.14744347]\n",
      " [0.1589444  0.15576454 0.16417252 0.15561684 0.15119944 0.15620812\n",
      "  0.1670825  0.15090559 0.16413878 0.15990289 0.16589816 0.16043017\n",
      "  0.1461392 ]\n",
      " [0.13524138 0.13538824 0.14503416 0.14063442 0.14192859 0.15373578\n",
      "  0.14184571 0.14366364 0.14046494 0.14166228 0.13870287 0.13533622\n",
      "  0.13456023]\n",
      " [0.17101852 0.16987186 0.16291415 0.17521835 0.16627311 0.16651655\n",
      "  0.16661338 0.17538497 0.18055458 0.17434342 0.17180287 0.17251191\n",
      "  0.17213254]\n",
      " [0.27489018 0.25600851 0.26791815 0.26350558 0.26875794 0.2405354\n",
      "  0.26862844 0.27801352 0.25387006 0.26083391 0.26348688 0.25752848\n",
      "  0.28309268]\n",
      " [0.11887856 0.1204595  0.11569618 0.11593396 0.11678991 0.13076232\n",
      "  0.11465326 0.11954137 0.12016826 0.11503641 0.11724519 0.11588995\n",
      "  0.11663189]]\n"
     ]
    }
   ],
   "source": [
    "#print the means of the Theta_G variable, and the Theta_G_i variable if predictions have been made\n",
    "print samples['Theta_G'].mean(0).T\n",
    "if samples.has_key('Theta_G_i'):\n",
    "  print samples['Theta_G_i'].mean(0).T"
   ]
  },
  {
   "cell_type": "markdown",
   "metadata": {},
   "source": [
    "Example Output, using the sample data with 10 time points and 13 prediction time points for 6 OTU's. \n",
    "<br>\n",
    "Blue arrows indicate where the arrays for Theta_G and Theta_G_i begin.\n",
    "<img src='https://i.imgur.com/IETB4LK.png' style='height:400px'>"
   ]
  },
  {
   "cell_type": "code",
   "execution_count": 6,
   "metadata": {},
   "outputs": [
    {
     "data": {
      "text/plain": [
       "array([   0.,  442.,  620.,  879.,  991., 1087., 1255., 1379., 1492.,\n",
       "       1617.])"
      ]
     },
     "execution_count": 6,
     "metadata": {},
     "output_type": "execute_result"
    }
   ],
   "source": [
    "#Examine the time points array to make sure it was saved correctly. \n",
    "#Our project used timepoints based on the number of days since the first sample, so I did the same for the example file. \n",
    "T"
   ]
  },
  {
   "cell_type": "code",
   "execution_count": 7,
   "metadata": {},
   "outputs": [],
   "source": [
    "#Convert the array to a list\n",
    "T=T.tolist()"
   ]
  },
  {
   "cell_type": "code",
   "execution_count": 8,
   "metadata": {},
   "outputs": [
    {
     "data": {
      "text/plain": [
       "array([ 147.,  294.,  531.,  749.,  935., 1039., 1171., 1317., 1435.,\n",
       "       1554., 1797., 1977., 2157.])"
      ]
     },
     "execution_count": 8,
     "metadata": {},
     "output_type": "execute_result"
    }
   ],
   "source": [
    "#Examine the prediction time points array to make sure it was saved correctly\n",
    "T_p"
   ]
  },
  {
   "cell_type": "code",
   "execution_count": 9,
   "metadata": {},
   "outputs": [],
   "source": [
    "#Convert the array to a list\n",
    "T_p=T_p.tolist()"
   ]
  },
  {
   "cell_type": "code",
   "execution_count": 10,
   "metadata": {},
   "outputs": [
    {
     "data": {
      "text/plain": [
       "[0.0,\n",
       " 442.0,\n",
       " 620.0,\n",
       " 879.0,\n",
       " 991.0,\n",
       " 1087.0,\n",
       " 1255.0,\n",
       " 1379.0,\n",
       " 1492.0,\n",
       " 1617.0,\n",
       " 147.0,\n",
       " 294.0,\n",
       " 531.0,\n",
       " 749.0,\n",
       " 935.0,\n",
       " 1039.0,\n",
       " 1171.0,\n",
       " 1317.0,\n",
       " 1435.0,\n",
       " 1554.0,\n",
       " 1797.0,\n",
       " 1977.0,\n",
       " 2157.0]"
      ]
     },
     "execution_count": 10,
     "metadata": {},
     "output_type": "execute_result"
    }
   ],
   "source": [
    "#Make a single list for both sets of time points, for reference \n",
    "T_both = T+T_p\n",
    "T_both"
   ]
  },
  {
   "cell_type": "code",
   "execution_count": 11,
   "metadata": {},
   "outputs": [],
   "source": [
    "import matplotlib.pyplot as plt\n",
    "%matplotlib inline"
   ]
  },
  {
   "cell_type": "code",
   "execution_count": 20,
   "metadata": {
    "scrolled": true
   },
   "outputs": [
    {
     "data": {
      "image/png": "[encoded data removed]",
      "text/plain": [
       "<Figure size 432x288 with 1 Axes>"
      ]
     },
     "metadata": {
      "needs_background": "light"
     },
     "output_type": "display_data"
    }
   ],
   "source": [
    "#Do a quick exploratory plot of one of the OTU's, specifying y-axis limits if desired\n",
    "plt.plot(T,samples['Theta_G'].mean(0).T[1])\n",
    "plt.title('OTU 2 noise-free counts')\n",
    "plt.xlabel('Time delta in days')\n",
    "#plt.ylim(0.025,.425)\n",
    "plt.show()"
   ]
  },
  {
   "cell_type": "code",
   "execution_count": 22,
   "metadata": {},
   "outputs": [
    {
     "data": {
      "image/png": "[encoded data removed]",
      "text/plain": [
       "<Figure size 432x288 with 1 Axes>"
      ]
     },
     "metadata": {
      "needs_background": "light"
     },
     "output_type": "display_data"
    }
   ],
   "source": [
    "#Do a second quick plot, of the predicted values for the same OTU, in the same fashion\n",
    "plt.plot(T_p,samples['Theta_G_i'].mean(0).T[1])\n",
    "plt.title('OTU 2 predicted counts')\n",
    "plt.xlabel('Time delta in days')\n",
    "#plt.ylim(0.025,.425)\n",
    "plt.show()"
   ]
  },
  {
   "cell_type": "code",
   "execution_count": 23,
   "metadata": {},
   "outputs": [],
   "source": [
    "import pandas as pd"
   ]
  },
  {
   "cell_type": "code",
   "execution_count": 27,
   "metadata": {},
   "outputs": [
    {
     "data": {
      "text/html": [
       "<div>\n",
       "<style scoped>\n",
       "    .dataframe tbody tr th:only-of-type {\n",
       "        vertical-align: middle;\n",
       "    }\n",
       "\n",
       "    .dataframe tbody tr th {\n",
       "        vertical-align: top;\n",
       "    }\n",
       "\n",
       "    .dataframe thead th {\n",
       "        text-align: right;\n",
       "    }\n",
       "</style>\n",
       "<table border=\"1\" class=\"dataframe\">\n",
       "  <thead>\n",
       "    <tr style=\"text-align: right;\">\n",
       "      <th></th>\n",
       "      <th>0</th>\n",
       "      <th>1</th>\n",
       "      <th>2</th>\n",
       "      <th>3</th>\n",
       "      <th>4</th>\n",
       "      <th>5</th>\n",
       "      <th>6</th>\n",
       "      <th>7</th>\n",
       "      <th>8</th>\n",
       "      <th>9</th>\n",
       "    </tr>\n",
       "  </thead>\n",
       "  <tbody>\n",
       "    <tr>\n",
       "      <th>0</th>\n",
       "      <td>0.000000</td>\n",
       "      <td>442.000000</td>\n",
       "      <td>620.000000</td>\n",
       "      <td>879.000000</td>\n",
       "      <td>991.000000</td>\n",
       "      <td>1087.000000</td>\n",
       "      <td>1255.000000</td>\n",
       "      <td>1379.000000</td>\n",
       "      <td>1492.000000</td>\n",
       "      <td>1617.000000</td>\n",
       "    </tr>\n",
       "    <tr>\n",
       "      <th>1</th>\n",
       "      <td>0.047517</td>\n",
       "      <td>0.074487</td>\n",
       "      <td>0.017681</td>\n",
       "      <td>0.092388</td>\n",
       "      <td>0.188619</td>\n",
       "      <td>0.075940</td>\n",
       "      <td>0.083911</td>\n",
       "      <td>0.069740</td>\n",
       "      <td>0.140646</td>\n",
       "      <td>0.129456</td>\n",
       "    </tr>\n",
       "    <tr>\n",
       "      <th>2</th>\n",
       "      <td>0.135375</td>\n",
       "      <td>0.134153</td>\n",
       "      <td>0.046648</td>\n",
       "      <td>0.120965</td>\n",
       "      <td>0.147342</td>\n",
       "      <td>0.106392</td>\n",
       "      <td>0.069390</td>\n",
       "      <td>0.066285</td>\n",
       "      <td>0.411934</td>\n",
       "      <td>0.372779</td>\n",
       "    </tr>\n",
       "    <tr>\n",
       "      <th>3</th>\n",
       "      <td>0.046368</td>\n",
       "      <td>0.127515</td>\n",
       "      <td>0.027570</td>\n",
       "      <td>0.100668</td>\n",
       "      <td>0.199409</td>\n",
       "      <td>0.150651</td>\n",
       "      <td>0.077554</td>\n",
       "      <td>0.095465</td>\n",
       "      <td>0.224779</td>\n",
       "      <td>0.212280</td>\n",
       "    </tr>\n",
       "    <tr>\n",
       "      <th>4</th>\n",
       "      <td>0.204145</td>\n",
       "      <td>0.138338</td>\n",
       "      <td>0.030475</td>\n",
       "      <td>0.058062</td>\n",
       "      <td>0.135990</td>\n",
       "      <td>0.064894</td>\n",
       "      <td>0.096231</td>\n",
       "      <td>0.078188</td>\n",
       "      <td>0.063900</td>\n",
       "      <td>0.098808</td>\n",
       "    </tr>\n",
       "  </tbody>\n",
       "</table>\n",
       "</div>"
      ],
      "text/plain": [
       "          0           1           2           3           4            5  \\\n",
       "0  0.000000  442.000000  620.000000  879.000000  991.000000  1087.000000   \n",
       "1  0.047517    0.074487    0.017681    0.092388    0.188619     0.075940   \n",
       "2  0.135375    0.134153    0.046648    0.120965    0.147342     0.106392   \n",
       "3  0.046368    0.127515    0.027570    0.100668    0.199409     0.150651   \n",
       "4  0.204145    0.138338    0.030475    0.058062    0.135990     0.064894   \n",
       "\n",
       "             6            7            8            9  \n",
       "0  1255.000000  1379.000000  1492.000000  1617.000000  \n",
       "1     0.083911     0.069740     0.140646     0.129456  \n",
       "2     0.069390     0.066285     0.411934     0.372779  \n",
       "3     0.077554     0.095465     0.224779     0.212280  \n",
       "4     0.096231     0.078188     0.063900     0.098808  "
      ]
     },
     "execution_count": 27,
     "metadata": {},
     "output_type": "execute_result"
    }
   ],
   "source": [
    "#Create a data frame with the timepoints in the first row and the OTU's in the following rows\n",
    "df=pd.DataFrame(samples['Theta_G'].mean(0).T, columns=[i for i in range(len(T))], index=[i+1 for i in range(6)])\n",
    "df.loc[0] = T\n",
    "df=df.sort_index()\n",
    "df.head()\n"
   ]
  },
  {
   "cell_type": "markdown",
   "metadata": {},
   "source": [
    "Example data frame using the sample data\n",
    "<img src='https://i.imgur.com/6U9XUzO.png' style='height:160px'>"
   ]
  },
  {
   "cell_type": "code",
   "execution_count": 111,
   "metadata": {},
   "outputs": [],
   "source": [
    "#Save to csv for re-importing into code using an up-to-date version of Python. \n",
    "#Remember to specify a file path if you want it in a particular folder. \n",
    "df.to_csv('example.csv', index=False)"
   ]
  },
  {
   "cell_type": "code",
   "execution_count": 29,
   "metadata": {},
   "outputs": [
    {
     "data": {
      "text/html": [
       "<div>\n",
       "<style scoped>\n",
       "    .dataframe tbody tr th:only-of-type {\n",
       "        vertical-align: middle;\n",
       "    }\n",
       "\n",
       "    .dataframe tbody tr th {\n",
       "        vertical-align: top;\n",
       "    }\n",
       "\n",
       "    .dataframe thead th {\n",
       "        text-align: right;\n",
       "    }\n",
       "</style>\n",
       "<table border=\"1\" class=\"dataframe\">\n",
       "  <thead>\n",
       "    <tr style=\"text-align: right;\">\n",
       "      <th></th>\n",
       "      <th>10</th>\n",
       "      <th>11</th>\n",
       "      <th>12</th>\n",
       "      <th>13</th>\n",
       "      <th>14</th>\n",
       "      <th>15</th>\n",
       "      <th>16</th>\n",
       "      <th>17</th>\n",
       "      <th>18</th>\n",
       "      <th>19</th>\n",
       "      <th>20</th>\n",
       "      <th>21</th>\n",
       "      <th>22</th>\n",
       "    </tr>\n",
       "  </thead>\n",
       "  <tbody>\n",
       "    <tr>\n",
       "      <th>0</th>\n",
       "      <td>147.000000</td>\n",
       "      <td>294.000000</td>\n",
       "      <td>531.000000</td>\n",
       "      <td>749.000000</td>\n",
       "      <td>935.000000</td>\n",
       "      <td>1039.000000</td>\n",
       "      <td>1171.000000</td>\n",
       "      <td>1317.000000</td>\n",
       "      <td>1435.000000</td>\n",
       "      <td>1554.000000</td>\n",
       "      <td>1797.000000</td>\n",
       "      <td>1977.000000</td>\n",
       "      <td>2157.000000</td>\n",
       "    </tr>\n",
       "    <tr>\n",
       "      <th>1</th>\n",
       "      <td>0.141027</td>\n",
       "      <td>0.162507</td>\n",
       "      <td>0.144265</td>\n",
       "      <td>0.149091</td>\n",
       "      <td>0.155051</td>\n",
       "      <td>0.152242</td>\n",
       "      <td>0.141177</td>\n",
       "      <td>0.132491</td>\n",
       "      <td>0.140803</td>\n",
       "      <td>0.148221</td>\n",
       "      <td>0.142864</td>\n",
       "      <td>0.158303</td>\n",
       "      <td>0.147443</td>\n",
       "    </tr>\n",
       "    <tr>\n",
       "      <th>2</th>\n",
       "      <td>0.158944</td>\n",
       "      <td>0.155765</td>\n",
       "      <td>0.164173</td>\n",
       "      <td>0.155617</td>\n",
       "      <td>0.151199</td>\n",
       "      <td>0.156208</td>\n",
       "      <td>0.167082</td>\n",
       "      <td>0.150906</td>\n",
       "      <td>0.164139</td>\n",
       "      <td>0.159903</td>\n",
       "      <td>0.165898</td>\n",
       "      <td>0.160430</td>\n",
       "      <td>0.146139</td>\n",
       "    </tr>\n",
       "    <tr>\n",
       "      <th>3</th>\n",
       "      <td>0.135241</td>\n",
       "      <td>0.135388</td>\n",
       "      <td>0.145034</td>\n",
       "      <td>0.140634</td>\n",
       "      <td>0.141929</td>\n",
       "      <td>0.153736</td>\n",
       "      <td>0.141846</td>\n",
       "      <td>0.143664</td>\n",
       "      <td>0.140465</td>\n",
       "      <td>0.141662</td>\n",
       "      <td>0.138703</td>\n",
       "      <td>0.135336</td>\n",
       "      <td>0.134560</td>\n",
       "    </tr>\n",
       "    <tr>\n",
       "      <th>4</th>\n",
       "      <td>0.171019</td>\n",
       "      <td>0.169872</td>\n",
       "      <td>0.162914</td>\n",
       "      <td>0.175218</td>\n",
       "      <td>0.166273</td>\n",
       "      <td>0.166517</td>\n",
       "      <td>0.166613</td>\n",
       "      <td>0.175385</td>\n",
       "      <td>0.180555</td>\n",
       "      <td>0.174343</td>\n",
       "      <td>0.171803</td>\n",
       "      <td>0.172512</td>\n",
       "      <td>0.172133</td>\n",
       "    </tr>\n",
       "  </tbody>\n",
       "</table>\n",
       "</div>"
      ],
      "text/plain": [
       "           10          11          12          13          14           15  \\\n",
       "0  147.000000  294.000000  531.000000  749.000000  935.000000  1039.000000   \n",
       "1    0.141027    0.162507    0.144265    0.149091    0.155051     0.152242   \n",
       "2    0.158944    0.155765    0.164173    0.155617    0.151199     0.156208   \n",
       "3    0.135241    0.135388    0.145034    0.140634    0.141929     0.153736   \n",
       "4    0.171019    0.169872    0.162914    0.175218    0.166273     0.166517   \n",
       "\n",
       "            16           17           18           19           20  \\\n",
       "0  1171.000000  1317.000000  1435.000000  1554.000000  1797.000000   \n",
       "1     0.141177     0.132491     0.140803     0.148221     0.142864   \n",
       "2     0.167082     0.150906     0.164139     0.159903     0.165898   \n",
       "3     0.141846     0.143664     0.140465     0.141662     0.138703   \n",
       "4     0.166613     0.175385     0.180555     0.174343     0.171803   \n",
       "\n",
       "            21           22  \n",
       "0  1977.000000  2157.000000  \n",
       "1     0.158303     0.147443  \n",
       "2     0.160430     0.146139  \n",
       "3     0.135336     0.134560  \n",
       "4     0.172512     0.172133  "
      ]
     },
     "execution_count": 29,
     "metadata": {},
     "output_type": "execute_result"
    }
   ],
   "source": [
    "#Create a second data frame for just the prediction time points and values, with the same format as before but column values starting \n",
    "#after the last value of the other data frame's columns\n",
    "df2=pd.DataFrame(samples['Theta_G_i'].mean(0).T, columns=[i for i in range(len(T),len(T)+len(T_p))], index=[i+1 for i in range(6)])\n",
    "df2.loc[0] = T_p\n",
    "df2 = df2.sort_index()\n",
    "df2.head()"
   ]
  },
  {
   "cell_type": "code",
   "execution_count": 113,
   "metadata": {},
   "outputs": [],
   "source": [
    "#Save to csv as before. \n",
    "df2.to_csv('example_pred.csv',index=False)"
   ]
  },
  {
   "cell_type": "code",
   "execution_count": 30,
   "metadata": {},
   "outputs": [
    {
     "data": {
      "text/html": [
       "<div>\n",
       "<style scoped>\n",
       "    .dataframe tbody tr th:only-of-type {\n",
       "        vertical-align: middle;\n",
       "    }\n",
       "\n",
       "    .dataframe tbody tr th {\n",
       "        vertical-align: top;\n",
       "    }\n",
       "\n",
       "    .dataframe thead th {\n",
       "        text-align: right;\n",
       "    }\n",
       "</style>\n",
       "<table border=\"1\" class=\"dataframe\">\n",
       "  <thead>\n",
       "    <tr style=\"text-align: right;\">\n",
       "      <th></th>\n",
       "      <th>0</th>\n",
       "      <th>1</th>\n",
       "      <th>2</th>\n",
       "      <th>3</th>\n",
       "      <th>4</th>\n",
       "      <th>5</th>\n",
       "      <th>6</th>\n",
       "      <th>7</th>\n",
       "      <th>8</th>\n",
       "      <th>9</th>\n",
       "      <th>...</th>\n",
       "      <th>13</th>\n",
       "      <th>14</th>\n",
       "      <th>15</th>\n",
       "      <th>16</th>\n",
       "      <th>17</th>\n",
       "      <th>18</th>\n",
       "      <th>19</th>\n",
       "      <th>20</th>\n",
       "      <th>21</th>\n",
       "      <th>22</th>\n",
       "    </tr>\n",
       "  </thead>\n",
       "  <tbody>\n",
       "    <tr>\n",
       "      <th>0</th>\n",
       "      <td>0.000000</td>\n",
       "      <td>442.000000</td>\n",
       "      <td>620.000000</td>\n",
       "      <td>879.000000</td>\n",
       "      <td>991.000000</td>\n",
       "      <td>1087.000000</td>\n",
       "      <td>1255.000000</td>\n",
       "      <td>1379.000000</td>\n",
       "      <td>1492.000000</td>\n",
       "      <td>1617.000000</td>\n",
       "      <td>...</td>\n",
       "      <td>749.000000</td>\n",
       "      <td>935.000000</td>\n",
       "      <td>1039.000000</td>\n",
       "      <td>1171.000000</td>\n",
       "      <td>1317.000000</td>\n",
       "      <td>1435.000000</td>\n",
       "      <td>1554.000000</td>\n",
       "      <td>1797.000000</td>\n",
       "      <td>1977.000000</td>\n",
       "      <td>2157.000000</td>\n",
       "    </tr>\n",
       "    <tr>\n",
       "      <th>1</th>\n",
       "      <td>0.047517</td>\n",
       "      <td>0.074487</td>\n",
       "      <td>0.017681</td>\n",
       "      <td>0.092388</td>\n",
       "      <td>0.188619</td>\n",
       "      <td>0.075940</td>\n",
       "      <td>0.083911</td>\n",
       "      <td>0.069740</td>\n",
       "      <td>0.140646</td>\n",
       "      <td>0.129456</td>\n",
       "      <td>...</td>\n",
       "      <td>0.149091</td>\n",
       "      <td>0.155051</td>\n",
       "      <td>0.152242</td>\n",
       "      <td>0.141177</td>\n",
       "      <td>0.132491</td>\n",
       "      <td>0.140803</td>\n",
       "      <td>0.148221</td>\n",
       "      <td>0.142864</td>\n",
       "      <td>0.158303</td>\n",
       "      <td>0.147443</td>\n",
       "    </tr>\n",
       "    <tr>\n",
       "      <th>2</th>\n",
       "      <td>0.135375</td>\n",
       "      <td>0.134153</td>\n",
       "      <td>0.046648</td>\n",
       "      <td>0.120965</td>\n",
       "      <td>0.147342</td>\n",
       "      <td>0.106392</td>\n",
       "      <td>0.069390</td>\n",
       "      <td>0.066285</td>\n",
       "      <td>0.411934</td>\n",
       "      <td>0.372779</td>\n",
       "      <td>...</td>\n",
       "      <td>0.155617</td>\n",
       "      <td>0.151199</td>\n",
       "      <td>0.156208</td>\n",
       "      <td>0.167082</td>\n",
       "      <td>0.150906</td>\n",
       "      <td>0.164139</td>\n",
       "      <td>0.159903</td>\n",
       "      <td>0.165898</td>\n",
       "      <td>0.160430</td>\n",
       "      <td>0.146139</td>\n",
       "    </tr>\n",
       "    <tr>\n",
       "      <th>3</th>\n",
       "      <td>0.046368</td>\n",
       "      <td>0.127515</td>\n",
       "      <td>0.027570</td>\n",
       "      <td>0.100668</td>\n",
       "      <td>0.199409</td>\n",
       "      <td>0.150651</td>\n",
       "      <td>0.077554</td>\n",
       "      <td>0.095465</td>\n",
       "      <td>0.224779</td>\n",
       "      <td>0.212280</td>\n",
       "      <td>...</td>\n",
       "      <td>0.140634</td>\n",
       "      <td>0.141929</td>\n",
       "      <td>0.153736</td>\n",
       "      <td>0.141846</td>\n",
       "      <td>0.143664</td>\n",
       "      <td>0.140465</td>\n",
       "      <td>0.141662</td>\n",
       "      <td>0.138703</td>\n",
       "      <td>0.135336</td>\n",
       "      <td>0.134560</td>\n",
       "    </tr>\n",
       "    <tr>\n",
       "      <th>4</th>\n",
       "      <td>0.204145</td>\n",
       "      <td>0.138338</td>\n",
       "      <td>0.030475</td>\n",
       "      <td>0.058062</td>\n",
       "      <td>0.135990</td>\n",
       "      <td>0.064894</td>\n",
       "      <td>0.096231</td>\n",
       "      <td>0.078188</td>\n",
       "      <td>0.063900</td>\n",
       "      <td>0.098808</td>\n",
       "      <td>...</td>\n",
       "      <td>0.175218</td>\n",
       "      <td>0.166273</td>\n",
       "      <td>0.166517</td>\n",
       "      <td>0.166613</td>\n",
       "      <td>0.175385</td>\n",
       "      <td>0.180555</td>\n",
       "      <td>0.174343</td>\n",
       "      <td>0.171803</td>\n",
       "      <td>0.172512</td>\n",
       "      <td>0.172133</td>\n",
       "    </tr>\n",
       "    <tr>\n",
       "      <th>5</th>\n",
       "      <td>0.503268</td>\n",
       "      <td>0.438271</td>\n",
       "      <td>0.854610</td>\n",
       "      <td>0.529068</td>\n",
       "      <td>0.029149</td>\n",
       "      <td>0.498916</td>\n",
       "      <td>0.599053</td>\n",
       "      <td>0.591036</td>\n",
       "      <td>0.023733</td>\n",
       "      <td>0.049672</td>\n",
       "      <td>...</td>\n",
       "      <td>0.263506</td>\n",
       "      <td>0.268758</td>\n",
       "      <td>0.240535</td>\n",
       "      <td>0.268628</td>\n",
       "      <td>0.278014</td>\n",
       "      <td>0.253870</td>\n",
       "      <td>0.260834</td>\n",
       "      <td>0.263487</td>\n",
       "      <td>0.257528</td>\n",
       "      <td>0.283093</td>\n",
       "    </tr>\n",
       "    <tr>\n",
       "      <th>6</th>\n",
       "      <td>0.063326</td>\n",
       "      <td>0.087237</td>\n",
       "      <td>0.023016</td>\n",
       "      <td>0.098849</td>\n",
       "      <td>0.299490</td>\n",
       "      <td>0.103206</td>\n",
       "      <td>0.073860</td>\n",
       "      <td>0.099287</td>\n",
       "      <td>0.135009</td>\n",
       "      <td>0.137006</td>\n",
       "      <td>...</td>\n",
       "      <td>0.115934</td>\n",
       "      <td>0.116790</td>\n",
       "      <td>0.130762</td>\n",
       "      <td>0.114653</td>\n",
       "      <td>0.119541</td>\n",
       "      <td>0.120168</td>\n",
       "      <td>0.115036</td>\n",
       "      <td>0.117245</td>\n",
       "      <td>0.115890</td>\n",
       "      <td>0.116632</td>\n",
       "    </tr>\n",
       "  </tbody>\n",
       "</table>\n",
       "<p>7 rows × 23 columns</p>\n",
       "</div>"
      ],
      "text/plain": [
       "         0           1           2           3           4            5   \\\n",
       "0  0.000000  442.000000  620.000000  879.000000  991.000000  1087.000000   \n",
       "1  0.047517    0.074487    0.017681    0.092388    0.188619     0.075940   \n",
       "2  0.135375    0.134153    0.046648    0.120965    0.147342     0.106392   \n",
       "3  0.046368    0.127515    0.027570    0.100668    0.199409     0.150651   \n",
       "4  0.204145    0.138338    0.030475    0.058062    0.135990     0.064894   \n",
       "5  0.503268    0.438271    0.854610    0.529068    0.029149     0.498916   \n",
       "6  0.063326    0.087237    0.023016    0.098849    0.299490     0.103206   \n",
       "\n",
       "            6            7            8            9   ...          13  \\\n",
       "0  1255.000000  1379.000000  1492.000000  1617.000000  ...  749.000000   \n",
       "1     0.083911     0.069740     0.140646     0.129456  ...    0.149091   \n",
       "2     0.069390     0.066285     0.411934     0.372779  ...    0.155617   \n",
       "3     0.077554     0.095465     0.224779     0.212280  ...    0.140634   \n",
       "4     0.096231     0.078188     0.063900     0.098808  ...    0.175218   \n",
       "5     0.599053     0.591036     0.023733     0.049672  ...    0.263506   \n",
       "6     0.073860     0.099287     0.135009     0.137006  ...    0.115934   \n",
       "\n",
       "           14           15           16           17           18  \\\n",
       "0  935.000000  1039.000000  1171.000000  1317.000000  1435.000000   \n",
       "1    0.155051     0.152242     0.141177     0.132491     0.140803   \n",
       "2    0.151199     0.156208     0.167082     0.150906     0.164139   \n",
       "3    0.141929     0.153736     0.141846     0.143664     0.140465   \n",
       "4    0.166273     0.166517     0.166613     0.175385     0.180555   \n",
       "5    0.268758     0.240535     0.268628     0.278014     0.253870   \n",
       "6    0.116790     0.130762     0.114653     0.119541     0.120168   \n",
       "\n",
       "            19           20           21           22  \n",
       "0  1554.000000  1797.000000  1977.000000  2157.000000  \n",
       "1     0.148221     0.142864     0.158303     0.147443  \n",
       "2     0.159903     0.165898     0.160430     0.146139  \n",
       "3     0.141662     0.138703     0.135336     0.134560  \n",
       "4     0.174343     0.171803     0.172512     0.172133  \n",
       "5     0.260834     0.263487     0.257528     0.283093  \n",
       "6     0.115036     0.117245     0.115890     0.116632  \n",
       "\n",
       "[7 rows x 23 columns]"
      ]
     },
     "execution_count": 30,
     "metadata": {},
     "output_type": "execute_result"
    }
   ],
   "source": [
    "#Combine the two data frames \n",
    "dfboth = pd.concat([df, df2], axis=1, sort=False)\n",
    "dfboth.head()"
   ]
  },
  {
   "cell_type": "code",
   "execution_count": 115,
   "metadata": {},
   "outputs": [],
   "source": [
    "#Save to csv for use later with an up-to-date version of Python\n",
    "dfboth.to_csv('example_both.csv', index=False)"
   ]
  },
  {
   "cell_type": "code",
   "execution_count": 37,
   "metadata": {},
   "outputs": [],
   "source": [
    "#Simple function that could be used to create the 3 files quickly, or read several files in using dictionaries and a loop\n",
    "def file_create(T,T_p,samples,name):\n",
    "    T=T.tolist()\n",
    "    T_p=T_p.tolist()\n",
    "    df=pd.DataFrame(samples['Theta_G'].mean(0).T, columns=[i for i in range(len(T))], index=[i+1 for i in range(6)])\n",
    "    df.loc[0] = T\n",
    "    df=df.sort_index()\n",
    "    df.to_csv('{}.csv'.format(name), index=False)\n",
    "    df2=pd.DataFrame(samples['Theta_G_i'].mean(0).T, columns=[i for i in range(len(T),len(T)+len(T_p))], index=[i+1 for i in range(6)])\n",
    "    df2.loc[0] = T_p\n",
    "    df2 = df2.sort_index()\n",
    "    df2.to_csv('{}_pred.csv'.format(name), index=False)\n",
    "    dfboth = pd.concat([df, df2], axis=1, sort=False)\n",
    "    dfboth.to_csv('{}_both.csv'.format(name), index=False)"
   ]
  },
  {
   "cell_type": "code",
   "execution_count": 38,
   "metadata": {},
   "outputs": [],
   "source": [
    "file_create(T,T_p,samples,'example')"
   ]
  },
  {
   "cell_type": "code",
   "execution_count": null,
   "metadata": {},
   "outputs": [],
   "source": []
  }
 ],
 "metadata": {
  "kernelspec": {
   "display_name": "Python 2",
   "language": "python",
   "name": "python2"
  },
  "language_info": {
   "codemirror_mode": {
    "name": "ipython",
    "version": 2
   },
   "file_extension": ".py",
   "mimetype": "text/x-python",
   "name": "python",
   "nbconvert_exporter": "python",
   "pygments_lexer": "ipython2",
   "version": "2.7.16"
  }
 },
 "nbformat": 4,
 "nbformat_minor": 2
}
