{
 "cells": [
  {
   "cell_type": "markdown",
   "metadata": {},
   "source": [
    "This program reads in and merges multiple output files from the [TIME](https://web.rniapps.net/time/index.php) pairwise Dynamic Time Warping (DTW) Distance workflow (Workflow 5b). The workflow allows for calculations across all samples as well as by condition. Conditions are part of the metadata entered into the application. Our conditions were 'Exacerbated' and 'Stable.' For my analysis, I used the following settings: a taxonomic level of 'Genus', the default DTW constraint of 2 and a 0.1 cutoff for ignoring rare taxa because my input data had already been appropriately filtered. The input data was not rarefied or normalised in the initial upload. The output csv files were automatically generated, with names in the following format:"
   ]
  },
  {
   "cell_type": "markdown",
   "metadata": {},
   "source": [
    "(participant id)\\_(taxonomic level)\\_mdtw\\_(cutoff for ignoring rare taxa)\\_(constraint)\\_(condition).csv"
   ]
  },
  {
   "cell_type": "markdown",
   "metadata": {},
   "source": [
    "For example, one of my output files was named '711_Genus_mdtw_0.1_2_Stable.csv', for the analysis at the genus level of only the samples taken from particpant 711 when in Stable condition."
   ]
  },
  {
   "cell_type": "markdown",
   "metadata": {},
   "source": [
    "I have included some images of what the output should look like. To run this code using example data, see Create_TDTW_all_example."
   ]
  },
  {
   "cell_type": "markdown",
   "metadata": {},
   "source": [
    "The code may be easily modified to read in and merge multiple files which differ in name only by certain strings or variables."
   ]
  },
  {
   "cell_type": "code",
   "execution_count": 30,
   "metadata": {},
   "outputs": [],
   "source": [
    "#import necessary libraries\n",
    "import pandas as pd\n",
    "import numpy as np"
   ]
  },
  {
   "cell_type": "code",
   "execution_count": 31,
   "metadata": {},
   "outputs": [],
   "source": [
    "#make a list of the ID's of participants whose data was analyzed in the workflow\n",
    "IDs =[708,711,761,762,764,768]"
   ]
  },
  {
   "cell_type": "code",
   "execution_count": 32,
   "metadata": {},
   "outputs": [],
   "source": [
    "#read the output files from all samples into a dictionary\n",
    "csv = {}\n",
    "for i in IDs:\n",
    "    s = 'F:/CF/Data/TIME/DTW/{}_Genus_mdtw_0.1_2_All.csv'.format(i) \n",
    "    csv[i]=pd.read_csv(s)\n",
    "#If you are reading in files with different extensions, you can set s equal to the filename without extension, \n",
    "#create a dictionary for the IDs and file extensions, and then use csv[i]=pd.read_csv(s+dict[i])"
   ]
  },
  {
   "cell_type": "code",
   "execution_count": 33,
   "metadata": {},
   "outputs": [],
   "source": [
    "#edit column to specify that this is the distance across all samples. \n",
    "#the bacteria in our data have underscores before their names, so we join them without any additional strings as separators\n",
    "for i in csv:\n",
    "    csv[i]['Taxa1Taxa2'] = csv[i][['Taxa1', 'Taxa2']].apply(lambda x: ''.join(x), axis=1)\n",
    "    csv[i]=csv[i].drop(['Taxa1','Taxa2'],1)\n",
    "    csv[i].rename(columns={'TIME_DTW_Distance': 'TDTW_{}_all'.format(i)}, inplace=True)\n"
   ]
  },
  {
   "cell_type": "code",
   "execution_count": null,
   "metadata": {},
   "outputs": [],
   "source": [
    "#check that it ran properly by looking at one of the dataframes\n",
    "csv[764].head()"
   ]
  },
  {
   "attachments": {
    "image.png": {
     "image/png": "[encoded data removed]"
    }
   },
   "cell_type": "markdown",
   "metadata": {},
   "source": [
    "Sample of what a row and the columns should look like, using the trivial example of the distance between Actinomyces and itself: ![image.png](attachment:image.png)"
   ]
  },
  {
   "cell_type": "code",
   "execution_count": 34,
   "metadata": {},
   "outputs": [],
   "source": [
    "#read the output files from exacerbated samples into a dictionary\n",
    "csvE = {}\n",
    "for i in IDs:\n",
    "    s = 'F:/CF/Data/TIME/DTW/{}_Genus_mdtw_0.1_2_Exacerbation.csv'.format(i) \n",
    "    csvE[i]=pd.read_csv(s)\n",
    " "
   ]
  },
  {
   "cell_type": "code",
   "execution_count": 35,
   "metadata": {},
   "outputs": [],
   "source": [
    "#edit column name to specify that this is the distance across samples taken during exacerbations of symptoms \n",
    "#the bacteria in our data have underscores before their names, so we join them without any additional strings as separators\n",
    "for i in csvE:\n",
    "    csvE[i]['Taxa1Taxa2'] = csvE[i][['Taxa1', 'Taxa2']].apply(lambda x: ''.join(x), axis=1)\n",
    "    csvE[i]=csvE[i].drop(['Taxa1','Taxa2'],1)\n",
    "    csvE[i].rename(columns={'TIME_DTW_Distance': 'TDTW_{}_exacerbation'.format(i)}, inplace=True)\n"
   ]
  },
  {
   "cell_type": "code",
   "execution_count": null,
   "metadata": {},
   "outputs": [],
   "source": [
    "#check that it ran properly by looking at one of the dataframes\n",
    "csvE[708].head()"
   ]
  },
  {
   "attachments": {
    "image.png": {
     "image/png": "[encoded data removed]"
    }
   },
   "cell_type": "markdown",
   "metadata": {},
   "source": [
    "Sample of what a row and the columns should look like, using the trivial example of the distance between Actinomyces and itself: ![image.png](attachment:image.png)"
   ]
  },
  {
   "cell_type": "code",
   "execution_count": 36,
   "metadata": {},
   "outputs": [],
   "source": [
    "#read the output files from stable samples into a dictionary\n",
    "csvS = {}\n",
    "for i in IDs:\n",
    "    s = 'F:/CF/Data/TIME/DTW/{}_Genus_mdtw_0.1_2_Stable.csv'.format(i) \n",
    "    csvS[i]=pd.read_csv(s)"
   ]
  },
  {
   "cell_type": "code",
   "execution_count": 37,
   "metadata": {},
   "outputs": [],
   "source": [
    "#edit column name to specify that this is the distance across samples taken while clinically stable \n",
    "#the bacteria in our data have underscores before their names, so we join them without any additional strings as separators\n",
    "for i in csvS:\n",
    "    csvS[i]['Taxa1Taxa2'] = csvS[i][['Taxa1', 'Taxa2']].apply(lambda x: ''.join(x), axis=1)\n",
    "    csvS[i]=csvS[i].drop(['Taxa1','Taxa2'],1)\n",
    "    csvS[i].rename(columns={'TIME_DTW_Distance': 'TDTW_{}_stable'.format(i)}, inplace=True)"
   ]
  },
  {
   "cell_type": "code",
   "execution_count": null,
   "metadata": {},
   "outputs": [],
   "source": [
    "#check that it ran properly by looking at one of the dataframes\n",
    "csvS[768].head()"
   ]
  },
  {
   "attachments": {
    "image.png": {
     "image/png": "[encoded data removed]"
    }
   },
   "cell_type": "markdown",
   "metadata": {},
   "source": [
    "Sample of what a row and the columns should look like, using the trivial example of the distance between Actinomyces and itself: ![image.png](attachment:image.png)"
   ]
  },
  {
   "cell_type": "code",
   "execution_count": null,
   "metadata": {},
   "outputs": [],
   "source": [
    "#merge the dataframes\n",
    "for i in IDs:\n",
    "    if i==708:\n",
    "        result=csv[i]\n",
    "        result = pd.merge(result, csvE[i], on='Taxa1Taxa2', how= 'outer')\n",
    "        result = pd.merge(result, csvS[i], on='Taxa1Taxa2', how= 'outer')\n",
    "    else:\n",
    "        result = pd.merge(result, csv[i], on='Taxa1Taxa2', how= 'outer')\n",
    "        result = pd.merge(result, csvE[i], on='Taxa1Taxa2', how= 'outer')\n",
    "        result = pd.merge(result, csvS[i], on='Taxa1Taxa2', how= 'outer')\n",
    "result.head()"
   ]
  },
  {
   "attachments": {
    "image.png": {
     "image/png": "[encoded data removed]"
    }
   },
   "cell_type": "markdown",
   "metadata": {},
   "source": [
    "Sample of what a row and the first few columns should look like at this point, using the trivial example of the distance between Actinomyces and itself: ![image.png](attachment:image.png) The columns need reordering, and we want to transpose the table."
   ]
  },
  {
   "cell_type": "code",
   "execution_count": 56,
   "metadata": {},
   "outputs": [],
   "source": [
    "#sort the columns and transpose, making the columns the bacteria pairs \n",
    "#the index becomes the string identifying the participamt and their condition\n",
    "result = result.reindex(sorted(result.columns), axis=1)\n",
    "result=result.set_index('Taxa1Taxa2').T\n"
   ]
  },
  {
   "cell_type": "code",
   "execution_count": null,
   "metadata": {},
   "outputs": [],
   "source": [
    "#check that it ran properly by looking at the first few rows\n",
    "result.head()"
   ]
  },
  {
   "cell_type": "code",
   "execution_count": 27,
   "metadata": {},
   "outputs": [],
   "source": [
    "#save file\n",
    "result.to_csv(r'F:\\CF\\Data\\TIME\\DTW\\TDTW_all_filtered.csv', index=True)"
   ]
  }
 ],
 "metadata": {
  "kernelspec": {
   "display_name": "Python 3",
   "language": "python",
   "name": "python3"
  },
  "language_info": {
   "codemirror_mode": {
    "name": "ipython",
    "version": 3
   },
   "file_extension": ".py",
   "mimetype": "text/x-python",
   "name": "python",
   "nbconvert_exporter": "python",
   "pygments_lexer": "ipython3",
   "version": "3.7.3"
  }
 },
 "nbformat": 4,
 "nbformat_minor": 2
}
