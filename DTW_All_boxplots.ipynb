{
 "cells": [
  {
   "cell_type": "markdown",
   "metadata": {},
   "source": [
    "This program creates box plots for the output from the TIME web application's Workflow 5b, which caluclates uses their custom Dynamic Time Warping (DTW) algorithm to calculate the pairwise DTW distance between bacterial taxa. For the CF data, I used the following settings: a taxonomic level of 'Genus,' the default constraint of 2 and a filter for rare taxa of 0.1 (because the input data was already filtered). The input file was not rarefied or normalised in the intitial upload. In the programs Create_TDTW_all_filtered and Create_TDTW_all_example I created csv files for Workflow 5b output data. Now it's time to plot them, with a specific focus on 3 bacteria of particular interest to our CF research. "
   ]
  },
  {
   "cell_type": "markdown",
   "metadata": {},
   "source": [
    "As with my other programs, this code may easily be adapted to create boxplots for other types of data. It plots a selection of columns from the table rather than grouping by a factor variable. It also extracts names of bacteria from much longer strings. See the program DTW_All_boxplots_example for the same code using the example file generated in Create_TDTW_all_example, which you can run for yourself."
   ]
  },
  {
   "cell_type": "code",
   "execution_count": 1,
   "metadata": {},
   "outputs": [],
   "source": [
    "import pandas as pd\n",
    "import numpy as np"
   ]
  },
  {
   "cell_type": "code",
   "execution_count": 2,
   "metadata": {},
   "outputs": [],
   "source": [
    "from matplotlib import pyplot as plt\n",
    "%matplotlib inline\n",
    "import seaborn as sns"
   ]
  },
  {
   "cell_type": "code",
   "execution_count": 3,
   "metadata": {},
   "outputs": [],
   "source": [
    "#read in the file, created in the program Create_TDTW_all_filtered, which contains all the output from Workflow 5b\n",
    "df = pd.read_csv(r\"F:\\CF\\Data\\TIME\\DTW\\TDTW_all_filtered.csv\")"
   ]
  },
  {
   "cell_type": "markdown",
   "metadata": {},
   "source": [
    "The first few cells modify the dataset to focus on only 3 taxa, creating a separate file for each of the three which shows the distance from the other bacteria to that one bacteria. \n",
    "\n",
    "<br>\n",
    "\n",
    "If the filtered files have already been created and saved for the bacteria you wish to plot, there are alternate versions of the code for both sets of plots that reads them in to plot them."
   ]
  },
  {
   "cell_type": "code",
   "execution_count": null,
   "metadata": {},
   "outputs": [],
   "source": [
    "#rename the first column, which has no name, to 'Sample' \n",
    "df.rename(columns={'Unnamed: 0': 'Sample'}, inplace=True)\n"
   ]
  },
  {
   "cell_type": "code",
   "execution_count": null,
   "metadata": {},
   "outputs": [],
   "source": [
    "#extract the participant's clinical status from the sample identifier, and change to title case\n",
    "df['Status']=df['Sample'].str.split('_').str[2].str.title()\n"
   ]
  },
  {
   "cell_type": "code",
   "execution_count": null,
   "metadata": {},
   "outputs": [],
   "source": [
    "#extract the participant's ID number from the identifier\n",
    "df['ID']=df['Sample'].str.split('_').str[1]\n",
    "#review the changes to confirm that they worked\n",
    "df.head()"
   ]
  },
  {
   "cell_type": "markdown",
   "metadata": {},
   "source": [
    "What the new columns should look like:\n",
    "<img src='https://imgur.com/KU0nqUf.png' style='height:175px'>"
   ]
  },
  {
   "cell_type": "code",
   "execution_count": null,
   "metadata": {},
   "outputs": [],
   "source": [
    "#create a separate data frame for just those entries with status 'All'\n",
    "df2=df[df['Status'] == 'All']\n",
    "#view the head of the new table if desired\n",
    "df2.head()"
   ]
  },
  {
   "cell_type": "markdown",
   "metadata": {},
   "source": [
    "Note that in our CF input data for TIME, taxonomic names are preceded by double underscores at all levels.\n",
    "<br>\n",
    "\n",
    "Example: D_0__Bacteria;D_1__Actinobacteria;D_2__Actinobacteria;D_3__Actinomycetales;D_4__Actinomycetaceae;D_5__Actinomyces\n",
    "<br>\n",
    "\n",
    "This generates output for the genus level with Actinomyces preceded by double underscores in every workflow.\n",
    "We left the underscores in as separators when we merged the output files from TIME in Create_TDTW_all_filtered. The example data lacked these underscores, so we chose to add a single underscore as a separator between bacteria names in Create_TDTW_all_example. This means that, if you are editing this program to run it on your own data, the code below may need to be modified to reflect any formatting differences. "
   ]
  },
  {
   "cell_type": "code",
   "execution_count": 8,
   "metadata": {
    "scrolled": true
   },
   "outputs": [
    {
     "name": "stdout",
     "output_type": "stream",
     "text": [
      "[['__Pseudomonas__Gemella', '__Pseudomonas__Veillonella', '__Pseudomonas__Prevotella 7', '__Pseudomonas__Alloprevotella', '__Pseudomonas__Actinomyces', '__Pseudomonas__Prevotella', '__Pseudomonas__Porphyromonas', '__Pseudomonas__Rothia', '__Pseudomonas__Fusobacterium', '__Pseudomonas__Staphylococcus', '__Pseudomonas__Moraxella', '__Pseudomonas__Stenotrophomonas', '__Pseudomonas__Haemophilus', '__Pseudomonas__Neisseria', '__Pseudomonas__Streptococcus', '__Pseudomonas__Granulicatella', '__Pseudomonas__Actinobacillus', '__Pseudomonas__Leptotrichia', '__Pseudomonas__Capnocytophaga'], ['__Staphylococcus__Gemella', '__Staphylococcus__Veillonella', '__Staphylococcus__Prevotella 7', '__Staphylococcus__Alloprevotella', '__Staphylococcus__Actinomyces', '__Staphylococcus__Prevotella', '__Staphylococcus__Porphyromonas', '__Staphylococcus__Rothia', '__Staphylococcus__Fusobacterium', '__Staphylococcus__Moraxella', '__Staphylococcus__Pseudomonas', '__Staphylococcus__Stenotrophomonas', '__Staphylococcus__Haemophilus', '__Staphylococcus__Neisseria', '__Staphylococcus__Streptococcus', '__Staphylococcus__Granulicatella', '__Staphylococcus__Actinobacillus', '__Staphylococcus__Leptotrichia', '__Staphylococcus__Capnocytophaga'], ['__Streptococcus__Gemella', '__Streptococcus__Veillonella', '__Streptococcus__Prevotella 7', '__Streptococcus__Alloprevotella', '__Streptococcus__Actinomyces', '__Streptococcus__Prevotella', '__Streptococcus__Porphyromonas', '__Streptococcus__Rothia', '__Streptococcus__Fusobacterium', '__Streptococcus__Staphylococcus', '__Streptococcus__Moraxella', '__Streptococcus__Pseudomonas', '__Streptococcus__Stenotrophomonas', '__Streptococcus__Haemophilus', '__Streptococcus__Neisseria', '__Streptococcus__Granulicatella', '__Streptococcus__Actinobacillus', '__Streptococcus__Leptotrichia', '__Streptococcus__Capnocytophaga']]\n"
     ]
    }
   ],
   "source": [
    "#make a list of the columns we are interested in, excluding those that pair OTU's with themselves \n",
    "clist=[]\n",
    "bacteria=['Pseudomonas','Staphylococcus','Streptococcus']\n",
    "for i in range(0,3):\n",
    "    #if you are editing this code to use on your own data, here you may need a minor edit to relect formatting differences\n",
    "    #viewing the head of df or df2 above should tell you if and how you need to change the str.format() function\n",
    "    j=[col for col in df.columns if col.startswith('__{}'.format(bacteria[i])) \n",
    "       and col!= '__{}__{}'.format(bacteria[i],bacteria[i])]\n",
    "    clist.append(j)                                              \n",
    "#view the list to check it, if desired\n",
    "#print(clist)\n"
   ]
  },
  {
   "cell_type": "markdown",
   "metadata": {},
   "source": [
    "I included the code in all of my different plotting programs for GP Microbiome output the creation of keys for bacteria names. The keys pair OTU ID numbers with names of bacteria. The file 'OTU_key_named_selection.csv' contains only the bacteria of particular interest to the CF study. 'OTU_key_named_selection.xlsx' is that file, with information added about the NCBI taxonomic ID and how we want the boxplot to look, saved as an Excel workbook. "
   ]
  },
  {
   "cell_type": "markdown",
   "metadata": {},
   "source": [
    "For quick basic plots without including the NCBI taxonomic ID's or specifying the order, skip to the last two cells."
   ]
  },
  {
   "cell_type": "code",
   "execution_count": 52,
   "metadata": {},
   "outputs": [
    {
     "data": {
      "text/html": [
       "<div>\n",
       "<style scoped>\n",
       "    .dataframe tbody tr th:only-of-type {\n",
       "        vertical-align: middle;\n",
       "    }\n",
       "\n",
       "    .dataframe tbody tr th {\n",
       "        vertical-align: top;\n",
       "    }\n",
       "\n",
       "    .dataframe thead th {\n",
       "        text-align: right;\n",
       "    }\n",
       "</style>\n",
       "<table border=\"1\" class=\"dataframe\">\n",
       "  <thead>\n",
       "    <tr style=\"text-align: right;\">\n",
       "      <th></th>\n",
       "      <th>ID_OTU</th>\n",
       "      <th>Bacteria</th>\n",
       "      <th>Name</th>\n",
       "      <th>NCBI:txid</th>\n",
       "      <th>in_boxplot</th>\n",
       "      <th>order for plotting</th>\n",
       "    </tr>\n",
       "  </thead>\n",
       "  <tbody>\n",
       "    <tr>\n",
       "      <th>0</th>\n",
       "      <td>OTU_94</td>\n",
       "      <td>D_0__Bacteria;D_1__Firmicutes;D_2__Bacilli;D_3...</td>\n",
       "      <td>Staphylococcus</td>\n",
       "      <td>1279</td>\n",
       "      <td>Y</td>\n",
       "      <td>0.0</td>\n",
       "    </tr>\n",
       "    <tr>\n",
       "      <th>1</th>\n",
       "      <td>OTU_229</td>\n",
       "      <td>D_0__Bacteria;D_1__Proteobacteria;D_2__Gammapr...</td>\n",
       "      <td>Pseudomonas</td>\n",
       "      <td>286</td>\n",
       "      <td>Y</td>\n",
       "      <td>1.0</td>\n",
       "    </tr>\n",
       "    <tr>\n",
       "      <th>2</th>\n",
       "      <td>OTU_169</td>\n",
       "      <td>D_0__Bacteria;D_1__Fusobacteria;D_2__Fusobacte...</td>\n",
       "      <td>Fusobacterium</td>\n",
       "      <td>848</td>\n",
       "      <td>Y</td>\n",
       "      <td>2.0</td>\n",
       "    </tr>\n",
       "    <tr>\n",
       "      <th>3</th>\n",
       "      <td>OTU_206</td>\n",
       "      <td>D_0__Bacteria;D_1__Proteobacteria;D_2__Gammapr...</td>\n",
       "      <td>Neisseria</td>\n",
       "      <td>482</td>\n",
       "      <td>Y</td>\n",
       "      <td>3.0</td>\n",
       "    </tr>\n",
       "    <tr>\n",
       "      <th>4</th>\n",
       "      <td>OTU_223</td>\n",
       "      <td>D_0__Bacteria;D_1__Proteobacteria;D_2__Gammapr...</td>\n",
       "      <td>Haemophilus</td>\n",
       "      <td>724</td>\n",
       "      <td>Y</td>\n",
       "      <td>4.0</td>\n",
       "    </tr>\n",
       "  </tbody>\n",
       "</table>\n",
       "</div>"
      ],
      "text/plain": [
       "    ID_OTU                                           Bacteria            Name  \\\n",
       "0   OTU_94  D_0__Bacteria;D_1__Firmicutes;D_2__Bacilli;D_3...  Staphylococcus   \n",
       "1  OTU_229  D_0__Bacteria;D_1__Proteobacteria;D_2__Gammapr...     Pseudomonas   \n",
       "2  OTU_169  D_0__Bacteria;D_1__Fusobacteria;D_2__Fusobacte...   Fusobacterium   \n",
       "3  OTU_206  D_0__Bacteria;D_1__Proteobacteria;D_2__Gammapr...       Neisseria   \n",
       "4  OTU_223  D_0__Bacteria;D_1__Proteobacteria;D_2__Gammapr...     Haemophilus   \n",
       "\n",
       "  NCBI:txid in_boxplot  order for plotting  \n",
       "0      1279          Y                 0.0  \n",
       "1       286          Y                 1.0  \n",
       "2       848          Y                 2.0  \n",
       "3       482          Y                 3.0  \n",
       "4       724          Y                 4.0  "
      ]
     },
     "execution_count": 52,
     "metadata": {},
     "output_type": "execute_result"
    }
   ],
   "source": [
    "#read in the file and take a look at the columns\n",
    "key=pd.read_excel(r\"F:\\CF\\Data\\OTU_key_named_selection.xlsx\")\n",
    "key.head()\n"
   ]
  },
  {
   "cell_type": "code",
   "execution_count": 22,
   "metadata": {},
   "outputs": [
    {
     "data": {
      "text/plain": [
       "{'Pseudomonas': 286,\n",
       " 'Moraxella': 475,\n",
       " 'Neisseria': 482,\n",
       " 'Actinobacillus': 713,\n",
       " 'Haemophilus': 724,\n",
       " 'Porphyromonas': 836,\n",
       " 'Prevotella': 838,\n",
       " 'Fusobacterium': 848,\n",
       " 'Capnocytophaga': 1016,\n",
       " 'Staphylococcus': 1279,\n",
       " 'Streptococcus': 1301,\n",
       " 'Gemella': 1378,\n",
       " 'Actinomyces': 1654,\n",
       " 'Veillonella': 29465,\n",
       " 'Leptotrichia': 32067,\n",
       " 'Rothia': 32207,\n",
       " 'Stenotrophomonas': 40323,\n",
       " 'Granulicatella': 117563,\n",
       " 'Alloprevotella': 1283313,\n",
       " 'Prevotella 7': '838 (7)'}"
      ]
     },
     "execution_count": 22,
     "metadata": {},
     "output_type": "execute_result"
    }
   ],
   "source": [
    "#create and view a dictionary for the taxonomic ID's\n",
    "taxid_key=dict(zip(key['Name'], key['NCBI:txid']))\n",
    "#view dictionary, if desired\n",
    "taxid_key"
   ]
  },
  {
   "cell_type": "code",
   "execution_count": 56,
   "metadata": {},
   "outputs": [
    {
     "data": {
      "text/html": [
       "<div>\n",
       "<style scoped>\n",
       "    .dataframe tbody tr th:only-of-type {\n",
       "        vertical-align: middle;\n",
       "    }\n",
       "\n",
       "    .dataframe tbody tr th {\n",
       "        vertical-align: top;\n",
       "    }\n",
       "\n",
       "    .dataframe thead th {\n",
       "        text-align: right;\n",
       "    }\n",
       "</style>\n",
       "<table border=\"1\" class=\"dataframe\">\n",
       "  <thead>\n",
       "    <tr style=\"text-align: right;\">\n",
       "      <th></th>\n",
       "      <th>ID_OTU</th>\n",
       "      <th>Bacteria</th>\n",
       "      <th>Name</th>\n",
       "      <th>NCBI:txid</th>\n",
       "      <th>in_boxplot</th>\n",
       "      <th>order for plotting</th>\n",
       "    </tr>\n",
       "  </thead>\n",
       "  <tbody>\n",
       "    <tr>\n",
       "      <th>0</th>\n",
       "      <td>OTU_94</td>\n",
       "      <td>D_0__Bacteria;D_1__Firmicutes;D_2__Bacilli;D_3...</td>\n",
       "      <td>Staphylococcus</td>\n",
       "      <td>1279</td>\n",
       "      <td>Y</td>\n",
       "      <td>0.0</td>\n",
       "    </tr>\n",
       "    <tr>\n",
       "      <th>1</th>\n",
       "      <td>OTU_229</td>\n",
       "      <td>D_0__Bacteria;D_1__Proteobacteria;D_2__Gammapr...</td>\n",
       "      <td>Pseudomonas</td>\n",
       "      <td>286</td>\n",
       "      <td>Y</td>\n",
       "      <td>1.0</td>\n",
       "    </tr>\n",
       "    <tr>\n",
       "      <th>2</th>\n",
       "      <td>OTU_169</td>\n",
       "      <td>D_0__Bacteria;D_1__Fusobacteria;D_2__Fusobacte...</td>\n",
       "      <td>Fusobacterium</td>\n",
       "      <td>848</td>\n",
       "      <td>Y</td>\n",
       "      <td>2.0</td>\n",
       "    </tr>\n",
       "    <tr>\n",
       "      <th>3</th>\n",
       "      <td>OTU_206</td>\n",
       "      <td>D_0__Bacteria;D_1__Proteobacteria;D_2__Gammapr...</td>\n",
       "      <td>Neisseria</td>\n",
       "      <td>482</td>\n",
       "      <td>Y</td>\n",
       "      <td>3.0</td>\n",
       "    </tr>\n",
       "    <tr>\n",
       "      <th>4</th>\n",
       "      <td>OTU_223</td>\n",
       "      <td>D_0__Bacteria;D_1__Proteobacteria;D_2__Gammapr...</td>\n",
       "      <td>Haemophilus</td>\n",
       "      <td>724</td>\n",
       "      <td>Y</td>\n",
       "      <td>4.0</td>\n",
       "    </tr>\n",
       "  </tbody>\n",
       "</table>\n",
       "</div>"
      ],
      "text/plain": [
       "    ID_OTU                                           Bacteria            Name  \\\n",
       "0   OTU_94  D_0__Bacteria;D_1__Firmicutes;D_2__Bacilli;D_3...  Staphylococcus   \n",
       "1  OTU_229  D_0__Bacteria;D_1__Proteobacteria;D_2__Gammapr...     Pseudomonas   \n",
       "2  OTU_169  D_0__Bacteria;D_1__Fusobacteria;D_2__Fusobacte...   Fusobacterium   \n",
       "3  OTU_206  D_0__Bacteria;D_1__Proteobacteria;D_2__Gammapr...       Neisseria   \n",
       "4  OTU_223  D_0__Bacteria;D_1__Proteobacteria;D_2__Gammapr...     Haemophilus   \n",
       "\n",
       "  NCBI:txid in_boxplot  order for plotting  \n",
       "0      1279          Y                 0.0  \n",
       "1       286          Y                 1.0  \n",
       "2       848          Y                 2.0  \n",
       "3       482          Y                 3.0  \n",
       "4       724          Y                 4.0  "
      ]
     },
     "execution_count": 56,
     "metadata": {},
     "output_type": "execute_result"
    }
   ],
   "source": [
    "taxa=key[key['in_boxplot']=='Y'].sort_values('order for plotting')\n",
    "taxa.head()\n"
   ]
  },
  {
   "cell_type": "markdown",
   "metadata": {},
   "source": [
    "## Plots with Taxonomic ID's:"
   ]
  },
  {
   "cell_type": "markdown",
   "metadata": {},
   "source": [
    "Loop that creates the files:"
   ]
  },
  {
   "cell_type": "code",
   "execution_count": null,
   "metadata": {},
   "outputs": [],
   "source": [
    "for i in range(0,3):\n",
    "    df3=df2.filter(clist[i], axis=1)\n",
    "    #since each data frame is for the distance from one bacteria, change the column names to be just the second bacteria\n",
    "    #this code may need adjustment depending on how many underscores are in your bacteria names\n",
    "    df3.columns=[w.replace('__{}__'.format(bacteria[i]),'') for w in df3.columns]\n",
    "    #save file if desired\n",
    "    #df3.to_csv(r\"F:\\CF\\Data\\TIME\\DTW\\TDTW_filtered_{}.csv\".format(bacteria[i]), index=False)\n",
    "    #to keep those with at least 4 non-NaN's:\n",
    "    #df3.dropna(thresh=4, axis=1, inplace=True)\n",
    "    df3.dropna(axis=1, inplace=True)\n",
    "    order=list(taxa['Name'][taxa['Name']!=bacteria[i]])\n",
    "    df3=df3.reindex(columns=order)\n",
    "    df3.columns=[col+' NCBI:taxid {}'.format(str(taxid_key[col])) for col in df3.columns]\n",
    "    plt.figure(figsize=(12,14))\n",
    "    ax=sns.boxplot(x=\"variable\", y=\"value\", data=pd.melt(df3))\n",
    "    plt.setp(ax.get_xticklabels(), rotation=90, size=18, style='italic')\n",
    "    plt.setp(ax.get_yticklabels(), size=16)\n",
    "    plt.title('DTW Distance from {}'.format(bacteria[i]), size=24)\n",
    "    plt.xlabel('')\n",
    "    plt.ylabel('Distance',size=20)\n",
    "    plt.tight_layout()\n",
    "    #plt.savefig(r\"F:\\CF\\Data\\TIME\\DTW\\{}_ALL.png\".format(bacteria[i]), format = \"png\")\n",
    "    plt.show()"
   ]
  },
  {
   "cell_type": "markdown",
   "metadata": {},
   "source": [
    "Loop that reads in the files:"
   ]
  },
  {
   "cell_type": "code",
   "execution_count": null,
   "metadata": {},
   "outputs": [],
   "source": [
    "#loop for if the files have already been created\n",
    "for i in range(0,3):\n",
    "    df = pd.read_csv(r\"F:\\CF\\Data\\TIME\\DTW\\TDTW_filtered_{}.csv\".format(bacteria[i]))\n",
    "    df.dropna(axis=1, inplace=True)\n",
    "    order=list(taxa['Name'][taxa['Name']!=bacteria[i]])\n",
    "    df=df.reindex(columns=order)\n",
    "    df.columns=[col+' NCBI:taxid {}'.format(str(taxid_key[col])) for col in df.columns]\n",
    "    plt.figure(figsize=(12,14))\n",
    "    ax=sns.boxplot(x=\"variable\", y=\"value\", data=pd.melt(df))\n",
    "    plt.setp(ax.get_xticklabels(), rotation=90, size=18, style='italic')\n",
    "    plt.setp(ax.get_yticklabels(), size=16)\n",
    "    plt.title('DTW Distance from {}'.format(bacteria[i]), size=24)\n",
    "    plt.xlabel('')\n",
    "    plt.ylabel('Distance',size=20)\n",
    "    plt.tight_layout()\n",
    "    #plt.savefig(r\"F:\\CF\\Data\\TIME\\DTW\\{}_ALL.png\".format(bacteria[i]), format = \"png\")\n",
    "    plt.show() "
   ]
  },
  {
   "cell_type": "markdown",
   "metadata": {},
   "source": [
    "Quick basic plots:"
   ]
  },
  {
   "cell_type": "code",
   "execution_count": null,
   "metadata": {},
   "outputs": [],
   "source": [
    "for i in range(0,3):\n",
    "    df3=df2.filter(clist[i], axis=1)\n",
    "    #since each data frame is for the distance from one bacteria, change the column names to be just the second bacteria\n",
    "    #this code may need adjustment depending on how many underscores are in your bacteria names    \n",
    "    df3.columns=[w.replace('__{}__'.format(bacteria[i]),'') for w in df3.columns]\n",
    "    #save file if desired\n",
    "    #df3.to_csv(r\"F:\\CF\\Data\\TIME\\DTW\\TDTW_filtered_{}.csv\".format(bacteria[i]), index=False)\n",
    "    #to keep those with at least 4 non-NaN's:\n",
    "    #df3.dropna(thresh=4, axis=1, inplace=True)\n",
    "    df3.dropna(axis=1, inplace=True)\n",
    "    plt.figure(figsize=(12,10))\n",
    "    ax=sns.boxplot(x=\"variable\", y=\"value\", data=pd.melt(df3))\n",
    "    plt.setp(ax.get_xticklabels(), rotation=90, size=18, style='italic')\n",
    "    plt.setp(ax.get_yticklabels(), size=16)\n",
    "    plt.title('DTW Distance from {}'.format(bacteria[i]), size=24)\n",
    "    plt.xlabel('')\n",
    "    plt.ylabel('Distance',size=20)\n",
    "    plt.tight_layout()\n",
    "    #plt.savefig(r\"F:\\CF\\Data\\TIME\\DTW\\{}_ALL.png\".format(bacteria[i]), format = \"png\")\n",
    "    plt.show() "
   ]
  },
  {
   "cell_type": "code",
   "execution_count": null,
   "metadata": {},
   "outputs": [],
   "source": [
    "#loop for if the files have already been created\n",
    "for i in range(0,3):\n",
    "    df = pd.read_csv(r\"F:\\CF\\Data\\TIME\\DTW\\TDTW_filtered_{}.csv\".format(bacteria[i]))\n",
    "    df.dropna(axis=1, inplace=True)\n",
    "    plt.figure(figsize=(12,10))\n",
    "    ax=sns.boxplot(x=\"variable\", y=\"value\", data=pd.melt(df))\n",
    "    plt.setp(ax.get_xticklabels(), rotation=90, size=18, style='italic')\n",
    "    plt.setp(ax.get_yticklabels(), size=16)\n",
    "    plt.title('DTW Distance from {}'.format(bacteria[i]), size=24)\n",
    "    plt.xlabel('')\n",
    "    plt.ylabel('Distance',size=20)\n",
    "    plt.tight_layout()\n",
    "    #plt.savefig(r\"F:\\CF\\Data\\TIME\\DTW\\{}_ALL.png\".format(bacteria[i]), format = \"png\")\n",
    "    plt.show() "
   ]
  }
 ],
 "metadata": {
  "kernelspec": {
   "display_name": "Python 3",
   "language": "python",
   "name": "python3"
  },
  "language_info": {
   "codemirror_mode": {
    "name": "ipython",
    "version": 3
   },
   "file_extension": ".py",
   "mimetype": "text/x-python",
   "name": "python",
   "nbconvert_exporter": "python",
   "pygments_lexer": "ipython3",
   "version": "3.7.3"
  }
 },
 "nbformat": 4,
 "nbformat_minor": 2
}
